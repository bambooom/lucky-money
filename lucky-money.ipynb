{
 "cells": [
  {
   "cell_type": "code",
   "execution_count": 70,
   "metadata": {
    "collapsed": false
   },
   "outputs": [],
   "source": [
    "import numpy as np\n",
    "\n",
    "def luckydraw(N, total):\n",
    "    lucky=np.zeros(N)\n",
    "    balance=total\n",
    "    for i in xrange(N):\n",
    "        if i == N-1:\n",
    "            lucky[i]=balance\n",
    "        while lucky[i] == 0:\n",
    "            lucky[i]=np.around(np.random.uniform(0.01,balance/(N-i)*2),decimals=2)\n",
    "        print \"红包: \"+str(lucky[i])\n",
    "        balance = balance-lucky[i]\n",
    "        print \"剩余: \"+str(balance)        \n",
    "    return lucky"
   ]
  },
  {
   "cell_type": "code",
   "execution_count": 76,
   "metadata": {
    "collapsed": false
   },
   "outputs": [
    {
     "name": "stdout",
     "output_type": "stream",
     "text": [
      "红包: 0.86\n",
      "剩余: 19.14\n",
      "红包: 0.65\n",
      "剩余: 18.49\n",
      "红包: 1.04\n",
      "剩余: 17.45\n",
      "红包: 3.32\n",
      "剩余: 14.13\n",
      "红包: 0.24\n",
      "剩余: 13.89\n",
      "红包: 5.48\n",
      "剩余: 8.41\n",
      "红包: 2.81\n",
      "剩余: 5.6\n",
      "红包: 1.06\n",
      "剩余: 4.54\n",
      "红包: 1.31\n",
      "剩余: 3.23\n",
      "红包: 3.23\n",
      "剩余: 0.0\n"
     ]
    },
    {
     "data": {
      "text/plain": [
       "array([ 0.86,  0.65,  1.04,  3.32,  0.24,  5.48,  2.81,  1.06,  1.31,  3.23])"
      ]
     },
     "execution_count": 76,
     "metadata": {},
     "output_type": "execute_result"
    }
   ],
   "source": [
    "luckydraw(10, 20)"
   ]
  },
  {
   "cell_type": "code",
   "execution_count": null,
   "metadata": {
    "collapsed": false
   },
   "outputs": [],
   "source": []
  },
  {
   "cell_type": "code",
   "execution_count": null,
   "metadata": {
    "collapsed": true
   },
   "outputs": [],
   "source": []
  },
  {
   "cell_type": "code",
   "execution_count": null,
   "metadata": {
    "collapsed": true
   },
   "outputs": [],
   "source": []
  }
 ],
 "metadata": {
  "kernelspec": {
   "display_name": "Python 2",
   "language": "python",
   "name": "python2"
  },
  "language_info": {
   "codemirror_mode": {
    "name": "ipython",
    "version": 2
   },
   "file_extension": ".py",
   "mimetype": "text/x-python",
   "name": "python",
   "nbconvert_exporter": "python",
   "pygments_lexer": "ipython2",
   "version": "2.7.11"
  }
 },
 "nbformat": 4,
 "nbformat_minor": 0
}
