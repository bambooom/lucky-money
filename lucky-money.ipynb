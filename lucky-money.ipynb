{
 "cells": [
  {
   "cell_type": "code",
   "execution_count": 2,
   "metadata": {
    "collapsed": false
   },
   "outputs": [],
   "source": [
    "import numpy as np\n",
    "\n",
    "def luckydraw(N, total):\n",
    "    lucky=np.zeros(N)\n",
    "    balance=total\n",
    "    for i in xrange(N):\n",
    "        if i == N-1:\n",
    "            lucky[i]=balance\n",
    "        while lucky[i] == 0:\n",
    "            lucky[i]=np.around(np.random.uniform(0.01,balance/(N-i)*2),decimals=2)\n",
    "        print \"红包: \"+str(lucky[i])\n",
    "        balance = balance-lucky[i]\n",
    "        print \"剩余: \"+str(balance)        \n",
    "    return lucky"
   ]
  },
  {
   "cell_type": "code",
   "execution_count": 3,
   "metadata": {
    "collapsed": false
   },
   "outputs": [
    {
     "name": "stdout",
     "output_type": "stream",
     "text": [
      "红包: 2.46\n",
      "剩余: 17.54\n",
      "红包: 3.05\n",
      "剩余: 14.49\n",
      "红包: 2.03\n",
      "剩余: 12.46\n",
      "红包: 2.07\n",
      "剩余: 10.39\n",
      "红包: 1.31\n",
      "剩余: 9.08\n",
      "红包: 2.03\n",
      "剩余: 7.05\n",
      "红包: 3.42\n",
      "剩余: 3.63\n",
      "红包: 1.82\n",
      "剩余: 1.81\n",
      "红包: 1.65\n",
      "剩余: 0.16\n",
      "红包: 0.16\n",
      "剩余: 0.0\n"
     ]
    },
    {
     "data": {
      "text/plain": [
       "array([ 2.46,  3.05,  2.03,  2.07,  1.31,  2.03,  3.42,  1.82,  1.65,  0.16])"
      ]
     },
     "execution_count": 3,
     "metadata": {},
     "output_type": "execute_result"
    }
   ],
   "source": [
    "luckydraw(10, 20)"
   ]
  },
  {
   "cell_type": "markdown",
   "metadata": {
    "collapsed": false
   },
   "source": [
    "### 另一种算法"
   ]
  },
  {
   "cell_type": "code",
   "execution_count": 99,
   "metadata": {
    "collapsed": false
   },
   "outputs": [],
   "source": [
    "def luckydraw2(N, total):\n",
    "    div = np.random.uniform(0.01, total, N)\n",
    "    m = total*div/(div.sum())\n",
    "    lucky=np.around(m,2)\n",
    "    #print lucky\n",
    "    #print lucky.sum()\n",
    "    if lucky.sum()<total: # rounding issue\n",
    "        diff=total-lucky.sum()\n",
    "        #print diff\n",
    "        lucky[N-1] += diff\n",
    "    elif lucky.sum()>total:\n",
    "        diff=lucky.sum()-total\n",
    "        #print diff\n",
    "        lucky[N-1] -= diff\n",
    "    #print lucky\n",
    "    print lucky.sum()\n",
    "    return lucky"
   ]
  },
  {
   "cell_type": "code",
   "execution_count": 118,
   "metadata": {
    "collapsed": false
   },
   "outputs": [
    {
     "name": "stdout",
     "output_type": "stream",
     "text": [
      "5.0\n"
     ]
    },
    {
     "data": {
      "text/plain": [
       "array([ 0.97,  0.79,  0.62,  0.48,  0.41,  0.38,  0.05,  0.54,  0.04,  0.72])"
      ]
     },
     "execution_count": 118,
     "metadata": {},
     "output_type": "execute_result"
    }
   ],
   "source": [
    "luckydraw2(10,5)"
   ]
  },
  {
   "cell_type": "code",
   "execution_count": 123,
   "metadata": {
    "collapsed": false
   },
   "outputs": [
    {
     "name": "stdout",
     "output_type": "stream",
     "text": [
      "20.0\n"
     ]
    },
    {
     "data": {
      "text/plain": [
       "array([ 7.48,  0.14,  8.2 ,  0.28,  3.9 ])"
      ]
     },
     "execution_count": 123,
     "metadata": {},
     "output_type": "execute_result"
    }
   ],
   "source": [
    "luckydraw2(5,20)"
   ]
  },
  {
   "cell_type": "code",
   "execution_count": 124,
   "metadata": {
    "collapsed": false
   },
   "outputs": [
    {
     "name": "stdout",
     "output_type": "stream",
     "text": [
      "100.0\n"
     ]
    },
    {
     "data": {
      "text/plain": [
       "array([  8.88,  13.32,   7.4 ,  19.98,   5.29,  13.52,   7.37,   9.38,\n",
       "         8.03,   6.83])"
      ]
     },
     "execution_count": 124,
     "metadata": {},
     "output_type": "execute_result"
    }
   ],
   "source": [
    "luckydraw2(10,100)"
   ]
  }
 ],
 "metadata": {
  "kernelspec": {
   "display_name": "Python 2",
   "language": "python",
   "name": "python2"
  },
  "language_info": {
   "codemirror_mode": {
    "name": "ipython",
    "version": 2
   },
   "file_extension": ".py",
   "mimetype": "text/x-python",
   "name": "python",
   "nbconvert_exporter": "python",
   "pygments_lexer": "ipython2",
   "version": "2.7.11"
  }
 },
 "nbformat": 4,
 "nbformat_minor": 0
}
